{
 "cells": [
  {
   "cell_type": "code",
   "execution_count": 61,
   "metadata": {
    "collapsed": true,
    "pycharm": {
     "is_executing": false
    }
   },
   "outputs": [],
   "source": [
    "import numpy as np\n",
    "import matplotlib.pyplot as plt\n",
    "import os\n",
    "import scipy.interpolate as interpolate\n",
    "\n",
    "atten_folder = 'D:/Research/Attenuation Data/NPY Files/'\n",
    "spectra_folder = 'D:/Research/Attenuation Data/NPY Spectra/'\n",
    "energies = ['40kVp', '80kVp']\n",
    "\n",
    "# Matrices for the scattering data based on Z (rows) and E (columns)\n",
    "atten_files = os.listdir(atten_folder)\n",
    "num_rows = len(atten_files)\n",
    "scatter_matrix = np.empty([num_rows, 17])\n",
    "PE_matrix = np.empty([num_rows, 17])\n",
    "\n",
    "# Get the energies of the attenuation data\n",
    "num_energies = np.load(atten_folder + 'Z04.npy')\n",
    "atten_energies = np.array(num_energies[:, 0])\n",
    "\n",
    "Z_values = np.empty(num_rows)\n",
    "\n",
    "# Set first column to be the Z values and populate the matrices with the corresponding data\n",
    "for i, file in enumerate(atten_files):\n",
    "\n",
    "    # Get Z value of the file\n",
    "    Z_val = file.replace('Z', '')\n",
    "    Z_val = Z_val.replace('.npy', '')\n",
    "    Z_val = int(Z_val)\n",
    "\n",
    "    Z_values[i] = Z_val\n",
    "\n",
    "    # Load the file of a specific set of Z attenuation data\n",
    "    data = np.load(atten_folder+file)\n",
    "\n",
    "    # Arrays to store the scattering and PE values of each energy in the atten_energies array\n",
    "    scatter_G = np.empty(len(atten_energies))\n",
    "    PE_F = np.empty(len(atten_energies))\n",
    "\n",
    "    # Find the energy values in each file and export their scatter and PE values\n",
    "    for j, energy in enumerate(atten_energies):\n",
    "        energy_ind = np.argwhere(data[:, 0] == energy)\n",
    "        scatter_G[j] = float(data[energy_ind, 1])\n",
    "        PE_F[j] = float(data[energy_ind, 2])\n",
    "\n",
    "    scatter_matrix[i, 0:] = scatter_G\n",
    "    PE_matrix[i, 0:] = PE_F\n",
    "\n",
    "atten_energies = np.array(atten_energies, dtype='float')\n",
    "\n",
    "# Function that will interpolate F (photoelectric) based on the input energy and Z-value\n",
    "# Call using F(E, Z) (E and Z can be arrays)\n",
    "F = interpolate.interp2d(atten_energies, Z_values, PE_matrix, kind='linear')\n",
    "\n",
    "# Function that will interpolate G (scattering) based on the input energy and Z-value\n",
    "# Call using G(E, Z) (E and Z can be arrays)\n",
    "G = interpolate.interp2d(atten_energies, Z_values, scatter_matrix, kind='linear')\n",
    "\n",
    "\n",
    "spectra_file_low = 'IMAGING_' + energies[0] + '_Spectra.npy'\n",
    "spectra_file_high = 'IMAGING_' + energies[1] + '_Spectra.npy'\n",
    "\n",
    "spectra_data_low = np.load(spectra_folder+spectra_file_low)\n",
    "spectra_data_high = np.load(spectra_folder+spectra_file_high)\n",
    "\n",
    "# Load the spectra information\n",
    "spectra_energies = []  # Lower energy\n",
    "spectra_weights_low = []  # Lower energy\n",
    "spectra_weights_high = []  # Higher energy\n",
    "\n",
    "# Get rid of the bin edges, just take the mid energy value and the number of photons in the bin\n",
    "for m in np.arange(2, len(spectra_data_low), 3):\n",
    "    spectra_energies.append(spectra_data_low[m, 0])\n",
    "    \n",
    "    spectra_weights_low.append(spectra_data_low[m, 1])\n",
    "    spectra_weights_high.append(spectra_data_high[m, 1])\n",
    "\n",
    "spectra_energies.append(spectra_data_low[len(spectra_data_low)-2, 0])\n",
    "\n",
    "spectra_weights_low.append(spectra_data_low[len(spectra_data_low)-2, 1])\n",
    "spectra_weights_high.append(spectra_data_high[len(spectra_data_high) - 2, 1])\n",
    "\n",
    "spectra_energies_low = np.array(spectra_energies)\n",
    "\n",
    "spectra_weights_low = np.array(spectra_weights_low)\n",
    "spectra_weights_high = np.array(spectra_weights_high)\n",
    "\n",
    "# Normalize the weights\n",
    "sum_low = np.sum(spectra_weights_low)\n",
    "sum_high = np.sum(spectra_weights_high)\n",
    "\n",
    "spectra_weights_low = np.divide(spectra_weights_low, sum_low)\n",
    "spectra_weights_high = np.divide(spectra_weights_high, sum_high)\n"
   ]
  },
  {
   "cell_type": "code",
   "execution_count": 62,
   "outputs": [],
   "source": [
    "\n",
    "zpts = np.linspace(4, 30, 1000)\n",
    "fpts = F(0.04567, zpts)\n"
   ],
   "metadata": {
    "collapsed": false,
    "pycharm": {
     "name": "#%%\n",
     "is_executing": false
    }
   }
  },
  {
   "cell_type": "code",
   "execution_count": 63,
   "outputs": [
    {
     "data": {
      "text/plain": "<Figure size 432x288 with 1 Axes>",
      "image/png": "[encoded data removed]"
     },
     "metadata": {
      "needs_background": "light"
     },
     "output_type": "display_data"
    }
   ],
   "source": [
    "plt.plot(zpts, fpts)\n",
    "plt.show()\n"
   ],
   "metadata": {
    "collapsed": false,
    "pycharm": {
     "name": "#%%\n",
     "is_executing": false
    }
   }
  },
  {
   "cell_type": "code",
   "execution_count": 70,
   "outputs": [
    {
     "name": "stdout",
     "text": [
      "[[0.001  0.0015 0.002  0.003  0.004  0.005  0.006  0.008  0.01   0.015\n  0.02   0.03   0.04   0.05   0.06   0.08   0.1   ]\n [0.001  0.0015 0.002  0.003  0.004  0.005  0.006  0.008  0.01   0.015\n  0.02   0.03   0.04   0.05   0.06   0.08   0.1   ]\n [0.001  0.0015 0.002  0.003  0.004  0.005  0.006  0.008  0.01   0.015\n  0.02   0.03   0.04   0.05   0.06   0.08   0.1   ]\n [0.001  0.0015 0.002  0.003  0.004  0.005  0.006  0.008  0.01   0.015\n  0.02   0.03   0.04   0.05   0.06   0.08   0.1   ]\n [0.001  0.0015 0.002  0.003  0.004  0.005  0.006  0.008  0.01   0.015\n  0.02   0.03   0.04   0.05   0.06   0.08   0.1   ]\n [0.001  0.0015 0.002  0.003  0.004  0.005  0.006  0.008  0.01   0.015\n  0.02   0.03   0.04   0.05   0.06   0.08   0.1   ]\n [0.001  0.0015 0.002  0.003  0.004  0.005  0.006  0.008  0.01   0.015\n  0.02   0.03   0.04   0.05   0.06   0.08   0.1   ]\n [0.001  0.0015 0.002  0.003  0.004  0.005  0.006  0.008  0.01   0.015\n  0.02   0.03   0.04   0.05   0.06   0.08   0.1   ]\n [0.001  0.0015 0.002  0.003  0.004  0.005  0.006  0.008  0.01   0.015\n  0.02   0.03   0.04   0.05   0.06   0.08   0.1   ]\n [0.001  0.0015 0.002  0.003  0.004  0.005  0.006  0.008  0.01   0.015\n  0.02   0.03   0.04   0.05   0.06   0.08   0.1   ]\n [0.001  0.0015 0.002  0.003  0.004  0.005  0.006  0.008  0.01   0.015\n  0.02   0.03   0.04   0.05   0.06   0.08   0.1   ]\n [0.001  0.0015 0.002  0.003  0.004  0.005  0.006  0.008  0.01   0.015\n  0.02   0.03   0.04   0.05   0.06   0.08   0.1   ]\n [0.001  0.0015 0.002  0.003  0.004  0.005  0.006  0.008  0.01   0.015\n  0.02   0.03   0.04   0.05   0.06   0.08   0.1   ]\n [0.001  0.0015 0.002  0.003  0.004  0.005  0.006  0.008  0.01   0.015\n  0.02   0.03   0.04   0.05   0.06   0.08   0.1   ]\n [0.001  0.0015 0.002  0.003  0.004  0.005  0.006  0.008  0.01   0.015\n  0.02   0.03   0.04   0.05   0.06   0.08   0.1   ]\n [0.001  0.0015 0.002  0.003  0.004  0.005  0.006  0.008  0.01   0.015\n  0.02   0.03   0.04   0.05   0.06   0.08   0.1   ]\n [0.001  0.0015 0.002  0.003  0.004  0.005  0.006  0.008  0.01   0.015\n  0.02   0.03   0.04   0.05   0.06   0.08   0.1   ]]\n"
     ],
     "output_type": "stream"
    }
   ],
   "source": [
    "# New interpolation\n",
    "new_Zval = np.tile(Z_values, (17,1))\n",
    "new_energies = np.tile(atten_energies, (17,1))\n",
    "\n",
    "new_F = interpolate.CloughTocher2DInterpolator()\n",
    "\n",
    "print(new_energies)\n"
   ],
   "metadata": {
    "collapsed": false,
    "pycharm": {
     "name": "#%%\n",
     "is_executing": false
    }
   }
  },
  {
   "cell_type": "code",
   "execution_count": 71,
   "outputs": [
    {
     "name": "stdout",
     "text": [
      "[[0.21777496 0.8804921 ]\n [0.4198134  0.43041649]\n [0.08315505 0.68421309]\n [0.70542589 0.29396744]\n [0.3347055  0.34992288]\n [0.76429371 0.41978744]\n [0.43334208 0.694158  ]\n [0.05546768 0.20521486]\n [0.15898387 0.76870281]\n [0.68505781 0.1856982 ]]\n"
     ],
     "output_type": "stream"
    }
   ],
   "source": [
    "print(np.random.rand(10, 2))"
   ],
   "metadata": {
    "collapsed": false,
    "pycharm": {
     "name": "#%%\n",
     "is_executing": false
    }
   }
  }
 ],
 "metadata": {
  "language_info": {
   "codemirror_mode": {
    "name": "ipython",
    "version": 2
   },
   "file_extension": ".py",
   "mimetype": "text/x-python",
   "name": "python",
   "nbconvert_exporter": "python",
   "pygments_lexer": "ipython2",
   "version": "2.7.6"
  },
  "kernelspec": {
   "name": "python3",
   "language": "python",
   "display_name": "Python 3"
  },
  "pycharm": {
   "stem_cell": {
    "cell_type": "raw",
    "source": [],
    "metadata": {
     "collapsed": false
    }
   }
  }
 },
 "nbformat": 4,
 "nbformat_minor": 0
}