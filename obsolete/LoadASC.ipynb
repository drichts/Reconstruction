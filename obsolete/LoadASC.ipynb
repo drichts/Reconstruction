{
 "cells": [
  {
   "cell_type": "code",
   "execution_count": 4,
   "metadata": {
    "collapsed": true,
    "pycharm": {
     "is_executing": false,
     "name": "#%%\n"
    }
   },
   "outputs": [
    {
     "name": "stdout",
     "text": [
      "spec_120kV_0p5mmCu.txt\n[[1.0000e-13 4.3174e-23]\n [1.0000e-13 4.3174e-18]\n [5.0000e-04 4.3174e-18]\n ...\n [1.9950e-01 4.3174e-18]\n [2.0000e-01 4.3174e-18]\n [2.0000e-01 4.3174e-23]]\n"
     ],
     "output_type": "stream"
    }
   ],
   "source": [
    "import numpy as np\n",
    "import matplotlib.pyplot as plt\n",
    "import os\n",
    "\n",
    "folder = 'D:/Research/Bin Optimization/'\n",
    "folder2 = 'D:/Research/Attenuation Data/NPY Spectra/'\n",
    "\n",
    "dirs = os.listdir(folder)\n",
    "\n",
    "file = 'spec_120kV_0p5mmCu.txt'\n",
    "    \n",
    "f = open(folder+file, 'rt')\n",
    "\n",
    "matrix = []\n",
    "for line in f:\n",
    "    col = line.split()\n",
    "    col = np.array(col)\n",
    "    matrix.append(col)\n",
    "\n",
    "matrix = matrix[16:len(matrix)-1]\n",
    "matrix = np.array(matrix, dtype='float')\n",
    "matrix = matrix[:, 0:2]\n",
    "file = file.replace('.asc', '.npy')\n",
    "\n",
    "np.save(folder+file, matrix)\n",
    "print(file)\n",
    "print(matrix)"
   ]
  },
  {
   "cell_type": "code",
   "execution_count": 6,
   "outputs": [
    {
     "name": "stdout",
     "text": [
      "[[1.0000e-02 1.8599e-15]\n [1.0000e-02 2.9847e-07]\n [1.0275e-02 2.9847e-07]\n ...\n [1.1972e-01 1.8599e-10]\n [1.2000e-01 1.8599e-10]\n [1.2000e-01 1.8599e-15]]\n"
     ],
     "output_type": "stream"
    }
   ],
   "source": [
    "\n",
    "x = np.load(folder+file+'.npy')#\n",
    "x = x[:, 0:2]\n",
    "print(x)\n",
    "#print(x)"
   ],
   "metadata": {
    "collapsed": false,
    "pycharm": {
     "name": "#%%\n",
     "is_executing": false
    }
   }
  },
  {
   "cell_type": "code",
   "execution_count": 10,
   "outputs": [
    {
     "name": "stdout",
     "text": [
      "\f\n"
     ],
     "output_type": "stream"
    }
   ],
   "source": [
    "clear all"
   ],
   "metadata": {
    "collapsed": false,
    "pycharm": {
     "name": "#%%\n",
     "is_executing": false
    }
   }
  }
 ],
 "metadata": {
  "language_info": {
   "codemirror_mode": {
    "name": "ipython",
    "version": 2
   },
   "file_extension": ".py",
   "mimetype": "text/x-python",
   "name": "python",
   "nbconvert_exporter": "python",
   "pygments_lexer": "ipython2",
   "version": "2.7.6"
  },
  "kernelspec": {
   "name": "python3",
   "language": "python",
   "display_name": "Python 3"
  },
  "pycharm": {
   "stem_cell": {
    "cell_type": "raw",
    "source": [],
    "metadata": {
     "collapsed": false
    }
   }
  }
 },
 "nbformat": 4,
 "nbformat_minor": 0
}