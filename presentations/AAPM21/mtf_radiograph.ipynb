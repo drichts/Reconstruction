{
 "cells": [
  {
   "cell_type": "code",
   "execution_count": 66,
   "metadata": {
    "collapsed": true,
    "pycharm": {
     "name": "#%% MTF FOR CT PHANTOM\n"
    }
   },
   "outputs": [],
   "source": [
    "import os\n",
    "import numpy as np\n",
    "import matplotlib.pyplot as plt\n",
    "from scipy.interpolate import interp1d\n",
    "from scipy.interpolate import CubicSpline\n",
    "\n",
    "directory = r'D:\\OneDrive - University of Victoria\\Research\\LDA Data\\AAPM21'\n",
    "folder = r'Radiographs\\resolution_piece_40kVp_analyzed'\n",
    "subfolders = ['large', 'middle', 'small_1']\n",
    "\n",
    "contrast_vals = np.zeros(3)\n",
    "air_std = np.zeros(3)\n",
    "plastic_std = np.zeros(3)\n",
    "\n",
    "std_vals = np.zeros(6)\n",
    "\n",
    "for i, sf in enumerate(subfolders):\n",
    "    c_vals = np.load(os.path.join(directory, folder, sf, 'mtf_contrast_vals.npz'), allow_pickle=True)['arr_0']\n",
    "    c_vals = c_vals.item()\n",
    "    contrast_vals[i] = c_vals['contrast']\n",
    "    plastic_std[i] = c_vals['std_1']\n",
    "    air_std[i] = c_vals['std_2']\n",
    "    std_vals[2*i:2*i+2] = np.load(os.path.join(directory, folder, sf, 'mtf_pattern_std.npy'))\n",
    "\n",
    "contrast_vals = np.mean(contrast_vals)\n",
    "air_std = np.mean(air_std)\n",
    "plastic_std = np.mean(plastic_std)"
   ]
  },
  {
   "cell_type": "code",
   "execution_count": 67,
   "outputs": [],
   "source": [
    "bar_size = np.array([1, 0.75, 0.66, 0.5, 0.33, 0.25])  # [mm] spot sizes for CT resolution phantom\n",
    "\n",
    "# calculate the frequency in line pairs per mm or use the known freq\n",
    "freq = 1 / (2 * bar_size)\n",
    "\n",
    "# M' is the measured noise (STD) in each of the bar patterns, uncorrected\n",
    "M_prime = std_vals\n",
    "\n",
    "# squared noise using ROIs of air and plastic\n",
    "# N^2 = (Np^2+Nw^2)/2\n",
    "noise_2 = (air_std ** 2 + plastic_std ** 2) / 2\n",
    "# correct std of bar patterns for noise using the water ROI, M = sqrt(M'^2-N^2)\n",
    "M = []\n",
    "for std in M_prime:\n",
    "    if std ** 2 > noise_2:\n",
    "        M.append(np.sqrt(std ** 2 - noise_2))\n",
    "    else:\n",
    "        M.append(0)\n",
    "\n",
    "# M = np.array([np.sqrt(std_16**2-noise_2),np.sqrt(std_13**2-noise_2),np.sqrt(std_10**2-noise_2),\n",
    "#             np.sqrt(std_08**2-noise_2),np.sqrt(std_06**2-noise_2),np.sqrt(std_05**2-noise_2)])\n",
    "\n",
    "# M0 = (CT1-CT2)/2: |Air - Plastic|/2\n",
    "M0 = contrast_vals / 2\n",
    "\n",
    "# MTF = (pi*sqrt(2)/4)*(M/M0)\n",
    "MTF = (np.pi * np.sqrt(2) / 4) * (M / M0)"
   ],
   "metadata": {
    "collapsed": false,
    "pycharm": {
     "name": "#%%\n"
    }
   }
  },
  {
   "cell_type": "code",
   "execution_count": 68,
   "outputs": [
    {
     "data": {
      "text/plain": "<Figure size 432x288 with 1 Axes>",
      "image/png": "[encoded data removed]"
     },
     "metadata": {
      "needs_background": "light"
     },
     "output_type": "display_data"
    }
   ],
   "source": [
    "fig = plt.figure()\n",
    "plt.scatter(freq, MTF)\n",
    "plt.title(\"MTF\")\n",
    "plt.ylabel(\"MTF\")\n",
    "plt.xlabel(\"Spatial frequency (lp/mm)\")\n",
    "plt.xlim([0, 10])\n",
    "plt.show()\n",
    "\n",
    "# Save the MTF\n",
    "np.save(os.path.join(directory, folder, 'mtf.npy'), np.array([freq, MTF]))\n"
   ],
   "metadata": {
    "collapsed": false,
    "pycharm": {
     "name": "#%% Plot the MTF\n"
    }
   }
  },
  {
   "cell_type": "code",
   "execution_count": 69,
   "outputs": [],
   "source": [
    "import os\n",
    "import numpy as np\n",
    "import matplotlib.pyplot as plt\n",
    "from scipy.interpolate import interp1d\n",
    "from scipy.interpolate import CubicSpline\n",
    "\n",
    "directory = r'D:\\OneDrive - University of Victoria\\Research\\LDA Data\\AAPM21\\Radiographs'\n",
    "folder = r'Stationary_MV_analyzed\\phantom_scan'\n",
    "\n",
    "c_vals = np.load(os.path.join(directory, folder, 'mtf_contrast_vals.npz'), allow_pickle=True)['arr_0']\n",
    "c_vals = c_vals.item()\n",
    "\n",
    "contrast_vals = c_vals['contrast']\n",
    "plastic_std = c_vals['std_1']\n",
    "air_std = c_vals['std_2']\n",
    "std_vals = np.load(os.path.join(directory, folder, 'mtf_pattern_std.npy'))"
   ],
   "metadata": {
    "collapsed": false,
    "pycharm": {
     "name": "#%% MTF FOR MV QC3\n"
    }
   }
  },
  {
   "cell_type": "code",
   "execution_count": 70,
   "outputs": [],
   "source": [
    "freq = [0.2, 0.25, 0.45, 0.76]  # MV PipsPro\n",
    "\n",
    "# M' is the measured noise (STD) in each of the bar patterns, uncorrected\n",
    "M_prime = std_vals\n",
    "\n",
    "# squared noise using ROIs of air and plastic\n",
    "# N^2 = (Np^2+Nw^2)/2\n",
    "noise_2 = (air_std ** 2 + plastic_std ** 2) / 2\n",
    "# correct std of bar patterns for noise using the water ROI, M = sqrt(M'^2-N^2)\n",
    "M = []\n",
    "for std in M_prime:\n",
    "    if std ** 2 > noise_2:\n",
    "        M.append(np.sqrt(std ** 2 - noise_2))\n",
    "    else:\n",
    "        M.append(0)\n",
    "\n",
    "# M = np.array([np.sqrt(std_16**2-noise_2),np.sqrt(std_13**2-noise_2),np.sqrt(std_10**2-noise_2),\n",
    "#             np.sqrt(std_08**2-noise_2),np.sqrt(std_06**2-noise_2),np.sqrt(std_05**2-noise_2)])\n",
    "\n",
    "# M0 = (CT1-CT2)/2: |Air - Plastic|/2\n",
    "M0 = contrast_vals / 2\n",
    "\n",
    "# MTF = (pi*sqrt(2)/4)*(M/M0)\n",
    "MTF = (np.pi * np.sqrt(2) / 4) * (M / M0)"
   ],
   "metadata": {
    "collapsed": false,
    "pycharm": {
     "name": "#%%\n"
    }
   }
  },
  {
   "cell_type": "code",
   "execution_count": 71,
   "outputs": [
    {
     "data": {
      "text/plain": "<Figure size 432x288 with 1 Axes>",
      "image/png": "[encoded data removed]"
     },
     "metadata": {
      "needs_background": "light"
     },
     "output_type": "display_data"
    }
   ],
   "source": [
    "fig = plt.figure()\n",
    "plt.scatter(freq, MTF)\n",
    "plt.title(\"MTF\")\n",
    "plt.ylabel(\"MTF\")\n",
    "plt.xlabel(\"Spatial frequency (lp/mm)\")\n",
    "plt.xlim([0, 10])\n",
    "plt.show()\n",
    "\n",
    "# Save the MTF\n",
    "np.save(os.path.join(directory, folder, 'mtf.npy'), np.array([freq, MTF]))\n"
   ],
   "metadata": {
    "collapsed": false,
    "pycharm": {
     "name": "#%% Plot the MTF\n"
    }
   }
  },
  {
   "cell_type": "code",
   "execution_count": 72,
   "outputs": [],
   "source": [
    "import os\n",
    "import numpy as np\n",
    "import matplotlib.pyplot as plt\n",
    "from scipy.interpolate import interp1d\n",
    "from scipy.interpolate import CubicSpline\n",
    "\n",
    "directory = r'D:\\OneDrive - University of Victoria\\Research\\LDA Data\\AAPM21\\Radiographs'\n",
    "folder = r'Stationary_kV_analyzed\\phantom_scan'\n",
    "\n",
    "c_vals = np.load(os.path.join(directory, folder, 'mtf_contrast_vals.npz'), allow_pickle=True)['arr_0']\n",
    "c_vals = c_vals.item()\n",
    "\n",
    "contrast_vals = c_vals['contrast']\n",
    "plastic_std = c_vals['std_1']\n",
    "air_std = c_vals['std_2']\n",
    "std_vals = np.load(os.path.join(directory, folder, 'mtf_pattern_std.npy'))"
   ],
   "metadata": {
    "collapsed": false,
    "pycharm": {
     "name": "#%% MTF FOR KV PIPSPRO\n"
    }
   }
  },
  {
   "cell_type": "code",
   "execution_count": 73,
   "outputs": [],
   "source": [
    "freq = [0.66, 0.98, 1.50]  # kV PipsPro\n",
    "\n",
    "# M' is the measured noise (STD) in each of the bar patterns, uncorrected\n",
    "M_prime = std_vals\n",
    "\n",
    "# squared noise using ROIs of air and plastic\n",
    "# N^2 = (Np^2+Nw^2)/2\n",
    "noise_2 = (air_std ** 2 + plastic_std ** 2) / 2\n",
    "# correct std of bar patterns for noise using the water ROI, M = sqrt(M'^2-N^2)\n",
    "M = []\n",
    "for std in M_prime:\n",
    "    if std ** 2 > noise_2:\n",
    "        M.append(np.sqrt(std ** 2 - noise_2))\n",
    "    else:\n",
    "        M.append(0)\n",
    "\n",
    "# M = np.array([np.sqrt(std_16**2-noise_2),np.sqrt(std_13**2-noise_2),np.sqrt(std_10**2-noise_2),\n",
    "#             np.sqrt(std_08**2-noise_2),np.sqrt(std_06**2-noise_2),np.sqrt(std_05**2-noise_2)])\n",
    "\n",
    "# M0 = (CT1-CT2)/2: |Air - Plastic|/2\n",
    "M0 = contrast_vals / 2\n",
    "\n",
    "# MTF = (pi*sqrt(2)/4)*(M/M0)\n",
    "MTF = (np.pi * np.sqrt(2) / 4) * (M / M0)"
   ],
   "metadata": {
    "collapsed": false,
    "pycharm": {
     "name": "#%%\n"
    }
   }
  },
  {
   "cell_type": "code",
   "execution_count": 74,
   "outputs": [
    {
     "data": {
      "text/plain": "<Figure size 432x288 with 1 Axes>",
      "image/png": "[encoded data removed]"
     },
     "metadata": {
      "needs_background": "light"
     },
     "output_type": "display_data"
    }
   ],
   "source": [
    "fig = plt.figure()\n",
    "plt.scatter(freq, MTF)\n",
    "plt.title(\"MTF\")\n",
    "plt.ylabel(\"MTF\")\n",
    "plt.xlabel(\"Spatial frequency (lp/mm)\")\n",
    "plt.xlim([0, 10])\n",
    "plt.show()\n",
    "\n",
    "# Save the MTF\n",
    "np.save(os.path.join(directory, folder, 'mtf.npy'), np.array([freq, MTF]))"
   ],
   "metadata": {
    "collapsed": false,
    "pycharm": {
     "name": "#%% Plot the MTF\n"
    }
   }
  }
 ],
 "metadata": {
  "kernelspec": {
   "display_name": "Python 3",
   "language": "python",
   "name": "python3"
  },
  "language_info": {
   "codemirror_mode": {
    "name": "ipython",
    "version": 2
   },
   "file_extension": ".py",
   "mimetype": "text/x-python",
   "name": "python",
   "nbconvert_exporter": "python",
   "pygments_lexer": "ipython2",
   "version": "2.7.6"
  }
 },
 "nbformat": 4,
 "nbformat_minor": 0
}