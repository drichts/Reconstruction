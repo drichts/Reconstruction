{
 "cells": [
  {
   "cell_type": "code",
   "execution_count": 7,
   "metadata": {
    "collapsed": true,
    "pycharm": {
     "name": "#%% Grab the folders and first display\n"
    }
   },
   "outputs": [
    {
     "name": "stdout",
     "output_type": "stream",
     "text": [
      "[ 16.4   17.12  17.84  18.56  19.28  20.    20.72  21.44  22.16  22.88\n",
      "  23.6   24.32  25.04  25.76  26.48  27.2   27.92  28.64  29.36  30.08\n",
      "  30.8   31.52  32.24  32.96  33.68  34.4   35.12  35.84  36.56  37.28\n",
      "  38.    38.72  39.44  40.16  40.88  41.6   42.32  43.04  43.76  44.48\n",
      "  45.2   45.92  46.64  47.36  48.08  48.8   49.52  50.24  50.96  51.68\n",
      "  52.4   53.12  53.84  54.56  55.28  56.    56.72  57.44  58.16  58.88\n",
      "  59.6   60.32  61.04  61.76  62.48  63.2   63.92  64.64  65.36  66.08\n",
      "  66.8   67.52  68.24  68.96  69.68  70.4   71.12  71.84  72.56  73.28\n",
      "  74.    74.72  75.44  76.16  76.88  77.6   78.32  79.04  79.76  80.48\n",
      "  81.2   81.92  82.64  83.36  84.08  84.8   85.52  86.24  86.96  87.68\n",
      "  88.4   89.12  89.84  90.56  91.28  92.    92.72  93.44  94.16  94.88\n",
      "  95.6   96.32  97.04  97.76  98.48  99.2   99.92 100.64 101.36 102.08\n",
      " 102.8  103.52 104.24 104.96 105.68 106.4  107.12 107.84 108.56 109.28\n",
      " 110.   110.72 111.44 112.16 112.88 113.6  114.32 115.04 115.76 116.48\n",
      " 117.2  117.92 118.64 119.36 120.08 120.8 ]\n"
     ]
    },
    {
     "data": {
      "text/plain": "<Figure size 432x432 with 1 Axes>",
      "image/png": "[encoded data removed]"
     },
     "metadata": {
      "needs_background": "light"
     },
     "output_type": "display_data"
    }
   ],
   "source": [
    "import os\n",
    "import numpy as np\n",
    "import matplotlib.pyplot as plt\n",
    "from glob import glob\n",
    "\n",
    "directory = r'D:\\OneDrive - University of Victoria\\Research\\LDA Data'\n",
    "folder = '5_s_DQE_sweep'\n",
    "counts = []\n",
    "\n",
    "for i in np.arange(0, 181, 1):\n",
    "\n",
    "    # The current data folder\n",
    "    dat_fold = glob(os.path.join(directory, folder, f'DQE_treshold_sweep_Thresholds_{i}*'))[0]\n",
    "    data = np.load(os.path.join(dat_fold, 'Data', 'data.npy'))[0:8, 413:432, 2]\n",
    "    data = np.sum(data, axis=(0, 1))\n",
    "\n",
    "    counts.append(data)\n",
    "\n",
    "counts = np.array(counts)\n",
    "\n",
    "fig, ax = plt.subplots(1, 1, figsize=(6, 6))\n",
    "xpts = np.arange(2, 131.7, 0.72)\n",
    "ax.plot(xpts[20:-15], counts[20:-15])\n",
    "ax.set_xlabel('Energy (keV)')\n",
    "ax.set_ylabel('Counts')\n",
    "fig.show()"
   ]
  },
  {
   "cell_type": "code",
   "execution_count": 8,
   "outputs": [
    {
     "name": "stdout",
     "output_type": "stream",
     "text": [
      "area = 4352859.3599999985\n"
     ]
    }
   ],
   "source": [
    "from scipy.integrate import simps\n",
    "from numpy import trapz\n",
    "\n",
    "counts2 = counts[20:-15]\n",
    "energy = xpts[20:-15]\n",
    "\n",
    "# Compute the area using the composite trapezoidal rule. (1 bin)\n",
    "area = trapz(counts2, energy)\n",
    "print(\"area =\", area)"
   ],
   "metadata": {
    "collapsed": false,
    "pycharm": {
     "name": "#%% Calculate area under curve for 1 bin\n"
    }
   }
  },
  {
   "cell_type": "code",
   "execution_count": 21,
   "outputs": [
    {
     "name": "stdout",
     "output_type": "stream",
     "text": [
      "area = 2161439.2799999993\n",
      "area = 2139440.3999999994\n",
      "Threshold at energy: 50.23999999999998\n"
     ]
    }
   ],
   "source": [
    "b = 47\n",
    "\n",
    "# Compute the area using the composite trapezoidal rule. (1 bin)\n",
    "area = trapz(counts2[0:b], energy[0:b])\n",
    "print(\"area =\", area)\n",
    "\n",
    "# Compute the area using the composite trapezoidal rule. (1 bin)\n",
    "area = trapz(counts2[b:], energy[b:])\n",
    "print(\"area =\", area)\n",
    "\n",
    "print('Threshold at energy:', energy[b])\n"
   ],
   "metadata": {
    "collapsed": false,
    "pycharm": {
     "name": "#%% Calculate the area under curve for 2 bins\n"
    }
   }
  },
  {
   "cell_type": "code",
   "execution_count": 34,
   "outputs": [
    {
     "name": "stdout",
     "output_type": "stream",
     "text": [
      "area = 1411340.0399999996\n",
      "area = 1406665.0799999996\n",
      "area = 1443115.7999999996\n",
      "Threshold 1 at energy: 37.999999999999986\n",
      "Treshold 2 at energy: 59.59999999999998\n"
     ]
    }
   ],
   "source": [
    "b, c = 30, 60\n",
    "\n",
    "# Compute the area using the composite trapezoidal rule. (1 bin)\n",
    "area = trapz(counts2[0:b], energy[0:b])\n",
    "print(\"area =\", area)\n",
    "\n",
    "# Compute the area using the composite trapezoidal rule. (1 bin)\n",
    "area = trapz(counts2[b:c], energy[b:c])\n",
    "print(\"area =\", area)\n",
    "\n",
    "# Compute the area using the composite trapezoidal rule. (1 bin)\n",
    "area = trapz(counts2[c:], energy[c:])\n",
    "print(\"area =\", area)\n",
    "\n",
    "print('Threshold 1 at energy:', energy[b])\n",
    "print('Treshold 2 at energy:', energy[c])"
   ],
   "metadata": {
    "collapsed": false,
    "pycharm": {
     "name": "#%% Calculate the area under curve for 3 bins\n"
    }
   }
  },
  {
   "cell_type": "code",
   "execution_count": 61,
   "outputs": [
    {
     "name": "stdout",
     "output_type": "stream",
     "text": [
      "area = 1037352.2399999998\n",
      "area = 1081675.7999999996\n",
      "area = 1064409.4800000002\n",
      "area = 1034737.1999999994\n",
      "Threshold 1 at energy: 31.51999999999999\n",
      "Threshold 2 at energy: 50.23999999999998\n",
      "Threshold 3 at energy: 66.07999999999998\n"
     ]
    }
   ],
   "source": [
    "b, c, d = 21, 47, 69\n",
    "\n",
    "# Compute the area using the composite trapezoidal rule. (1 bin)\n",
    "area = trapz(counts2[0:b], energy[0:b])\n",
    "print(\"area =\", area)\n",
    "\n",
    "# Compute the area using the composite trapezoidal rule. (1 bin)\n",
    "area = trapz(counts2[b:c], energy[b:c])\n",
    "print(\"area =\", area)\n",
    "\n",
    "area = trapz(counts2[c:d], energy[c:d])\n",
    "print(\"area =\", area)\n",
    "\n",
    "# Compute the area using the composite trapezoidal rule. (1 bin)\n",
    "area = trapz(counts2[d:], energy[d:])\n",
    "print(\"area =\", area)\n",
    "\n",
    "print('Threshold 1 at energy:', energy[b])\n",
    "print('Threshold 2 at energy:', energy[c])\n",
    "print('Threshold 3 at energy:', energy[d])"
   ],
   "metadata": {
    "collapsed": false,
    "pycharm": {
     "name": "#%% Calculate the area under curve for 4 bins\n"
    }
   }
  },
  {
   "cell_type": "code",
   "execution_count": 103,
   "outputs": [
    {
     "name": "stdout",
     "output_type": "stream",
     "text": [
      "area = 817021.4399999997\n",
      "area = 845530.9199999998\n",
      "area = 847819.0799999996\n",
      "area = 843192.7200000001\n",
      "area = 823235.7599999995\n",
      "Threshold 1 at energy: 27.91999999999999\n",
      "Threshold 2 at energy: 43.039999999999985\n",
      "Threshold 3 at energy: 55.99999999999998\n",
      "Threshold 4 at energy: 70.39999999999998\n"
     ]
    }
   ],
   "source": [
    "b, c, d, e = 16, 37, 55, 75\n",
    "\n",
    "# Compute the area using the composite trapezoidal rule. (1 bin)\n",
    "area = trapz(counts2[0:b], energy[0:b])\n",
    "print(\"area =\", area)\n",
    "\n",
    "# Compute the area using the composite trapezoidal rule. (1 bin)\n",
    "area = trapz(counts2[b:c], energy[b:c])\n",
    "print(\"area =\", area)\n",
    "\n",
    "area = trapz(counts2[c:d], energy[c:d])\n",
    "print(\"area =\", area)\n",
    "\n",
    "area = trapz(counts2[d:e], energy[d:e])\n",
    "print(\"area =\", area)\n",
    "\n",
    "# Compute the area using the composite trapezoidal rule. (1 bin)\n",
    "area = trapz(counts2[e:], energy[e:])\n",
    "print(\"area =\", area)\n",
    "\n",
    "print('Threshold 1 at energy:', energy[b])\n",
    "print('Threshold 2 at energy:', energy[c])\n",
    "print('Threshold 3 at energy:', energy[d])\n",
    "print('Threshold 4 at energy:', energy[e])"
   ],
   "metadata": {
    "collapsed": false,
    "pycharm": {
     "name": "#%% Calculate the area under curve for 5 bins\n"
    }
   }
  },
  {
   "cell_type": "code",
   "execution_count": 122,
   "outputs": [
    {
     "name": "stdout",
     "output_type": "stream",
     "text": [
      "area = 674124.1199999998\n",
      "area = 688325.7599999998\n",
      "area = 708405.8399999997\n",
      "area = 696324.6\n",
      "area = 666476.6399999998\n",
      "area = 696601.4399999998\n",
      "Threshold 1 at energy: 25.75999999999999\n",
      "Threshold 2 at energy: 37.999999999999986\n",
      "Threshold 3 at energy: 50.23999999999998\n",
      "Threshold 4 at energy: 60.31999999999998\n",
      "Threshold 5 at energy: 73.27999999999997\n"
     ]
    }
   ],
   "source": [
    "b, c, d, e, f = 13, 30, 47, 61, 79\n",
    "\n",
    "# Compute the area using the composite trapezoidal rule. (1 bin)\n",
    "area = trapz(counts2[0:b], energy[0:b])\n",
    "print(\"area =\", area)\n",
    "\n",
    "# Compute the area using the composite trapezoidal rule. (1 bin)\n",
    "area = trapz(counts2[b:c], energy[b:c])\n",
    "print(\"area =\", area)\n",
    "\n",
    "area = trapz(counts2[c:d], energy[c:d])\n",
    "print(\"area =\", area)\n",
    "\n",
    "area = trapz(counts2[d:e], energy[d:e])\n",
    "print(\"area =\", area)\n",
    "\n",
    "area = trapz(counts2[e:f], energy[e:f])\n",
    "print(\"area =\", area)\n",
    "\n",
    "# Compute the area using the composite trapezoidal rule. (1 bin)\n",
    "area = trapz(counts2[f:], energy[f:])\n",
    "print(\"area =\", area)\n",
    "\n",
    "print('Threshold 1 at energy:', energy[b])\n",
    "print('Threshold 2 at energy:', energy[c])\n",
    "print('Threshold 3 at energy:', energy[d])\n",
    "print('Threshold 4 at energy:', energy[e])\n",
    "print('Threshold 5 at energy:', energy[f])"
   ],
   "metadata": {
    "collapsed": false,
    "pycharm": {
     "name": "#%% Calculate the area under curve for 6 bins\n"
    }
   }
  }
 ],
 "metadata": {
  "kernelspec": {
   "display_name": "Python 3",
   "language": "python",
   "name": "python3"
  },
  "language_info": {
   "codemirror_mode": {
    "name": "ipython",
    "version": 2
   },
   "file_extension": ".py",
   "mimetype": "text/x-python",
   "name": "python",
   "nbconvert_exporter": "python",
   "pygments_lexer": "ipython2",
   "version": "2.7.6"
  }
 },
 "nbformat": 4,
 "nbformat_minor": 0
}