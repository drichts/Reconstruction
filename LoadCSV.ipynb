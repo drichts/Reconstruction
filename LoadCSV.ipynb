{
 "cells": [
  {
   "cell_type": "code",
   "execution_count": 67,
   "metadata": {
    "collapsed": true,
    "pycharm": {
     "is_executing": false
    }
   },
   "outputs": [
    {
     "name": "stdout",
     "text": [
      "Z01.npy\nZ02.npy\nZ03.npy\nZ04.npy\nZ05.npy\nZ06.npy\nZ07.npy\nZ08.npy\nZ09.npy\nZ10.npy\nZ11.npy\nZ12.npy\nZ13.npy\nZ14.npy\nZ15.npy\nZ16.npy\nZ17.npy\nZ18.npy\nZ19.npy\nZ20.npy\nZ21.npy\nZ22.npy\nZ23.npy\nZ24.npy\nZ25.npy\nZ26.npy\nZ27.npy\nZ28.npy\nZ29.npy\nZ30.npy\n"
     ],
     "output_type": "stream"
    }
   ],
   "source": [
    "import numpy as np\n",
    "import matplotlib.pyplot as plt\n",
    "import csv\n",
    "import os\n",
    "\n",
    "folder1 = 'D:/Research/Attenuation Data/CSV Files/'\n",
    "folder2 = 'D:/Research/Attenuation Data/NPY Files/'\n",
    "\n",
    "dirs = os.listdir(folder1)\n",
    "\n",
    "for file in dirs:\n",
    "    \n",
    "    with open(folder1+file, 'rt') as csvfile:\n",
    "        spamreader = csv.reader(csvfile, delimiter=',')\n",
    "            \n",
    "        matrix = []\n",
    "        for csv_row in spamreader:\n",
    "            matrix.append(csv_row)\n",
    "        matrix = np.array(matrix)\n",
    "\n",
    "        file = file.replace('.csv', '.npy')\n",
    "        np.save(folder2+file, matrix)\n",
    "        print(file)\n",
    "        "
   ]
  },
  {
   "cell_type": "code",
   "execution_count": 68,
   "outputs": [
    {
     "name": "stdout",
     "text": [
      "Z01.npy\n1.6738126868150116e-24\nZ02.npy\n6.646629026901362e-24\nZ03.npy\n1.152607107273331e-23\nZ04.npy\n1.4965426768515445e-23\nZ05.npy\n1.7950846894719363e-23\nZ06.npy\n1.994520092992361e-23\nZ07.npy\n2.325921620724012e-23\nZ08.npy\n2.6568249750913313e-23\nZ09.npy\n3.1548327798073725e-23\nZ10.npy\n3.350880106276984e-23\nZ11.npy\n3.8176303553636663e-23\nZ12.npy\n4.036034540019927e-23\nZ13.npy\n4.4804948522085683e-23\nZ14.npy\n4.6638160079707735e-23\nZ15.npy\n5.1434340750581196e-23\nZ16.npy\n5.323812686815012e-23\nZ17.npy\n5.887246761873132e-23\nZ18.npy\n6.633676519428761e-23\nZ19.npy\n6.492577216871472e-23\nZ20.npy\n6.655596147459315e-23\n",
      "Z21.npy\n7.465277316506144e-23\nZ22.npy\n7.954168050481567e-23\nZ23.npy\n8.45923281301893e-23\nZ24.npy\n8.634340750581203e-23\nZ25.npy\n9.122882763201595e-23\nZ26.npy\n9.273829292593823e-23\nZ27.npy\n9.786316838259714e-23\nZ28.npy\n9.747592162072402e-23\nZ29.npy\n1.0552308203254732e-22\nZ30.npy\n1.0856858186648953e-22\n"
     ],
     "output_type": "stream"
    }
   ],
   "source": [
    "atomic_mass = np.array([1.00797, 4.0026, 6.941, 9.01218, 10.81, 12.011, 14.0067, 15.9994, 18.998403, 20.179, \n",
    "                              22.98977, 24.305, 26.98154, 28.0855, 30.97376, 32.06, 35.453, 39.948, 39.0983, 40.08, \n",
    "                              44.9559, 47.90, 50.9415, 51.996, 54.9380, 55.847, 58.9332, 58.70, 63.546, 65.38])\n",
    "\n",
    "NA = 6.022E23\n",
    "#density = np.array([0.0899E-3, 0.1785E-3, 0.534, 1.848, 2.34, 2.26, 1.2506E-3, 1.429E-3, 1.696E-3, 0.9E-3, 0.971, 1.738, \n",
    " #                   2.702, 2.33, 1.82, 2.07, 3.214E-3, 1.7824E-3, 0.862, 1.55, 2.99, 4.54, 6.11, 7.19, 7.43, 7.874, 8.9, \n",
    "  #                  8.9, 8.96, 7.13])\n",
    "\n",
    "atomic_number = np.arange(1, 31)\n",
    "\n",
    "correction_factor = np.divide(atomic_mass, NA)\n",
    "\n",
    "\n",
    "files = os.listdir(folder2)   \n",
    "i = 0\n",
    "for file in files:\n",
    "    data = np.load(folder2+file)\n",
    "    data = np.array(data, dtype='float')\n",
    "    print(file)\n",
    "    print(correction_factor[i])\n",
    "    data[:, 1] = np.divide(data[:, 1], atomic_number[i])\n",
    "    data[:, 1] = np.multiply(data[:, 1], atomic_mass[i])\n",
    "    data[:, 2] = np.multiply(data[:, 2], atomic_mass[i])\n",
    "    data[:, 2] = np.divide(data[:, 2], atomic_number[i]**5)\n",
    "    i += 1\n",
    "    np.save(folder2+file, data)\n",
    "    #print(file)\n",
    "        "
   ],
   "metadata": {
    "collapsed": false,
    "pycharm": {
     "name": "#%%\n",
     "is_executing": false
    }
   }
  },
  {
   "cell_type": "code",
   "execution_count": 69,
   "outputs": [
    {
     "name": "stdout",
     "text": [
      "[[1.00000000e-03 1.14427640e+01 4.16494815e-03]\n [1.01000000e-03 1.14320918e+01 4.07077942e-03]\n [1.02000000e-03 1.14214218e+01 3.97930123e-03]\n [1.02000000e-03 1.14214218e+01 9.47337366e-03]\n [1.03100000e-03 1.14086073e+01 1.28634477e-02]\n [1.04300000e-03 1.13979787e+01 1.74561909e-02]\n [1.04300000e-03 1.13979787e+01 2.21511745e-02]\n [1.11600000e-03 1.13168465e+01 2.09538864e-02]\n [1.19400000e-03 1.12271299e+01 1.98238617e-02]\n [1.19400000e-03 1.12271299e+01 2.25762790e-02]\n [1.50000000e-03 1.08681610e+01 1.29656881e-02]\n [2.00000000e-03 1.02297907e+01 6.37656790e-03]\n [3.00000000e-03 8.95788815e+00 2.22507243e-03]\n [4.00000000e-03 7.78725925e+00 1.03047490e-03]\n [5.00000000e-03 6.75057217e+00 5.61514650e-04]\n [6.00000000e-03 5.85416879e+00 3.40083621e-04]\n [8.00000000e-03 4.47146896e+00 1.52499523e-04]\n [9.65900000e-03 3.65988523e+00 8.98100576e-05]\n [9.65900000e-03 3.65988523e+00 6.77745761e-04]\n [1.00000000e-02 3.52646644e+00 6.22589794e-04]\n [1.50000000e-02 2.24364546e+00 2.15619473e-04]\n [2.00000000e-02 1.63537173e+00 9.80430947e-05]\n [3.00000000e-02 1.04760553e+00 3.11833004e-05]\n [4.00000000e-02 7.73009533e-01 1.35307004e-05]\n [5.00000000e-02 6.25468667e-01 7.00884362e-06]\n [6.00000000e-02 5.36769800e-01 4.07346996e-06]\n [8.00000000e-02 4.35583353e-01 1.71306362e-06]\n [1.00000000e-01 3.78702753e-01 8.70388066e-07]]\n"
     ],
     "output_type": "stream"
    }
   ],
   "source": [
    "print(np.load(folder2+file))"
   ],
   "metadata": {
    "collapsed": false,
    "pycharm": {
     "name": "#%%\n",
     "is_executing": false
    }
   }
  }
 ],
 "metadata": {
  "language_info": {
   "codemirror_mode": {
    "name": "ipython",
    "version": 2
   },
   "file_extension": ".py",
   "mimetype": "text/x-python",
   "name": "python",
   "nbconvert_exporter": "python",
   "pygments_lexer": "ipython2",
   "version": "2.7.6"
  },
  "kernelspec": {
   "name": "python3",
   "language": "python",
   "display_name": "Python 3"
  },
  "pycharm": {
   "stem_cell": {
    "cell_type": "raw",
    "source": [],
    "metadata": {
     "collapsed": false
    }
   }
  }
 },
 "nbformat": 4,
 "nbformat_minor": 0
}